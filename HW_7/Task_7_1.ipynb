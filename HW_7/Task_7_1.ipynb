{
 "cells": [
  {
   "cell_type": "markdown",
   "source": [
    "## **Завдання №1**\n",
    "\n",
    "Виконайте підбір параметрів функції народжуваності згідно даних в окремому році згідно таблиці, із файлу birth_params.csv (розділ допоміжні ресурси). Зробіть висновок щодо значень параметрів та допустимих відхилень.\n",
    "\n",
    "Застосуйте ручний підбір через інтерактивні віджети *ipywidgets*"
   ],
   "metadata": {
    "collapsed": false
   }
  },
  {
   "cell_type": "code",
   "execution_count": 1,
   "outputs": [
    {
     "name": "stdin",
     "output_type": "stream",
     "text": [
      "Enter gender ЧОЛ or ЖІН:  ЖІН\n"
     ]
    },
    {
     "name": "stdout",
     "output_type": "stream",
     "text": [
      "   year    1896    1925    1958    1988    2006\n",
      "0     0  1.0000  1.0000  1.0000  1.0000  1.0000\n",
      "1     1  0.8032  0.8556  0.9675  0.9886  0.9916\n",
      "2     2  0.7418  0.8088  0.9632  0.9868  0.9905\n",
      "3     3  0.7058  0.7819  0.9614  0.9860  0.9899\n",
      "4     4  0.6829  0.7636  0.9603  0.9853  0.9895\n"
     ]
    },
    {
     "data": {
      "application/vnd.jupyter.widget-view+json": {
       "model_id": "65c8f02f4727488db7fa10bd98890568",
       "version_major": 2,
       "version_minor": 0
      },
      "text/plain": [
       "interactive(children=(FloatSlider(value=0.5, description='a', max=1.0), FloatSlider(value=0.5, description='b'…"
      ]
     },
     "execution_count": 1,
     "metadata": {},
     "output_type": "execute_result"
    }
   ],
   "source": [
    "import pandas as pd\n",
    "from ipywidgets import interactive\n",
    "import matplotlib.pyplot as plt\n",
    "import numpy as np\n",
    "from scipy.optimize import curve_fit\n",
    "import mplcyberpunk\n",
    "\n",
    "plt.style.use(\"cyberpunk\")\n",
    "\n",
    "# Зчитування даних з файлу CSV\n",
    "sex = input(\"Enter gender ЧОЛ or ЖІН: \")\n",
    "data = pd.read_csv(f'./data/death_params - {sex}.csv', sep=',', decimal=',')\n",
    "\n",
    "# Виведення перших 5 рядків даних\n",
    "print(data.head())\n",
    "\n",
    "# Визначте функцію, яку ви хочете підігнати під дані\n",
    "def birth_rate_function(x, a, b, c, d):\n",
    "    return a * np.exp(-b * (x - c)) + d\n",
    "\n",
    "# Створіть інтерактивний віджет для підбору параметрів\n",
    "def fit_birth_rate(a, b, c, d):\n",
    "    x_data = data['year']\n",
    "    y_data = data['1925']  # Відфільтровані дані для 1925 року\n",
    "\n",
    "    popt, _ = curve_fit(birth_rate_function, x_data, y_data, p0=[a, b, c, d])\n",
    "\n",
    "    plt.figure(figsize=(8, 6))\n",
    "    plt.scatter(x_data, y_data, label='Дані')\n",
    "    plt.plot(x_data, birth_rate_function(x_data, *popt), 'r-', label='Підгонка')\n",
    "    plt.title(\"Birth chart for 1925. Ivanov V.V.\")\n",
    "    plt.xlabel('Рік')\n",
    "    plt.ylabel('Народжуваність')\n",
    "    plt.legend()\n",
    "    mplcyberpunk.add_glow_effects()\n",
    "    plt.show()\n",
    "\n",
    "# Визначте межі для параметрів\n",
    "a_bounds = (0, 1.0)\n",
    "b_bounds = (0, 1.0)\n",
    "c_bounds = (1896, 1925)\n",
    "d_bounds = (0, 1.0)\n",
    "\n",
    "interactive_plot = interactive(fit_birth_rate, a=a_bounds, b=b_bounds, c=c_bounds, d=d_bounds)\n",
    "output = interactive_plot.children[-1]\n",
    "output.layout.height = '400px'\n",
    "interactive_plot"
   ],
   "metadata": {
    "collapsed": false,
    "ExecuteTime": {
     "end_time": "2023-11-01T12:56:46.747829400Z",
     "start_time": "2023-11-01T12:56:41.665036600Z"
    }
   }
  },
  {
   "cell_type": "markdown",
   "source": [
    "# Висновок"
   ],
   "metadata": {
    "collapsed": false
   }
  },
  {
   "cell_type": "markdown",
   "source": [
    "При зміні параметрів a&b -> 0.1 графік змінює свій вигляд з кривої на логарифмічний/експонентний вигляд. В загальному Україна, що 100 років тому була безлюдною пустошю, що зараз все прямує до цього."
   ],
   "metadata": {
    "collapsed": false
   }
  },
  {
   "cell_type": "markdown",
   "metadata": {
    "collapsed": false,
    "jupyter": {
     "outputs_hidden": false
    }
   },
   "source": []
  }
 ],
 "metadata": {
  "kernelspec": {
   "display_name": "Python 3 (ipykernel)",
   "language": "python",
   "name": "python3"
  },
  "language_info": {
   "codemirror_mode": {
    "name": "ipython",
    "version": 3
   },
   "file_extension": ".py",
   "mimetype": "text/x-python",
   "name": "python",
   "nbconvert_exporter": "python",
   "pygments_lexer": "ipython3",
   "version": "3.10.0"
  }
 },
 "nbformat": 4,
 "nbformat_minor": 4
}
