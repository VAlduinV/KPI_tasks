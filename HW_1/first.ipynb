{
 "cells": [
  {
   "cell_type": "code",
   "execution_count": null,
   "metadata": {
    "collapsed": true,
    "is_executing": true
   },
   "outputs": [],
   "source": [
    "import polars as pl\n",
    "import logging\n",
    "\n",
    "# Налаштування логування\n",
    "logging.basicConfig(level=logging.INFO)\n",
    "logger = logging.getLogger(__name__)"
   ]
  },
  {
   "cell_type": "code",
   "execution_count": null,
   "outputs": [],
   "source": [
    "# Функція для нормалізації колонки 'population' на діапазон [0, 1]\n",
    "def normalize_population(data):\n",
    "    min_population = data['population'].min()\n",
    "    max_population = data['population'].max()\n",
    "    normalized_data = data.with_columns((data['population'] - min_population) / (max_population - min_population))\n",
    "    return normalized_data"
   ],
   "metadata": {
    "collapsed": false
   }
  },
  {
   "cell_type": "code",
   "execution_count": null,
   "outputs": [],
   "source": [
    "# Функція для стандартизації колонки 'population'\n",
    "def standardize_population(data):\n",
    "    mean_population = data['population'].mean()\n",
    "    std_population = data['population'].std()\n",
    "    standardized_data = data.with_columns((data['population'] - mean_population) / std_population)\n",
    "    return standardized_data"
   ],
   "metadata": {
    "collapsed": false
   }
  },
  {
   "cell_type": "code",
   "execution_count": null,
   "outputs": [],
   "source": [
    "# Функція для нормалізації колонки 'population' на [0, 1]\n",
    "def normalize_population_01(data):\n",
    "    normalized_data = data.with_columns(data['population'] / data['population'].max())\n",
    "    return normalized_data"
   ],
   "metadata": {
    "collapsed": false
   }
  },
  {
   "cell_type": "code",
   "execution_count": null,
   "outputs": [],
   "source": [
    "if __name__ == '__main__':\n",
    "    # Завдання по Polars DataFrame\n",
    "    '''\n",
    "        Завдання 1 Операції з числовими даними\n",
    "        Завантажте таблицю із числовими даними, проведіть нормалізацію та стандартизацію колонки із числовими даними,\n",
    "        додайте нові колонки до таблиці, виведіть статистику по колонкам розширеної таблиці\n",
    "    '''\n",
    "    # Завантаження даних з файлу\n",
    "    data = pl.read_csv('UATown.csv')\n",
    "\n",
    "    # Виведення початкової таблиці\n",
    "    logger.info(\"Початкова таблиця:\")\n",
    "    logger.info(data)\n",
    "\n",
    "    # Нормалізація колонки 'population' на [0, 1]\n",
    "    normalized_data_01 = normalize_population_01(data)\n",
    "    logger.info(\"Результат нормалізації колонки 'population' на [0, 1]:\")\n",
    "    logger.info(normalized_data_01)\n",
    "\n",
    "    normalized_data = normalize_population(data)\n",
    "    logger.info(\"Результат нормалізації колонки 'population':\")\n",
    "    logger.info(normalized_data)\n",
    "\n",
    "    # Стандартизація колонки 'population'\n",
    "    standardized_data = standardize_population(data)\n",
    "    logger.info(\"Результат стандартизації колонки 'population':\")\n",
    "    logger.info(standardized_data)\n",
    "\n",
    "    # Додавання нових колонок до таблиці\n",
    "    data = data.with_columns(\n",
    "        data['lat'] * data['lng'],\n",
    "        data['population'] + data['population_proper']\n",
    "    )\n",
    "\n",
    "    # Логування розширеної таблиці\n",
    "    logger.info(\"Розширена таблиця:\")\n",
    "    logger.info(data)\n",
    "\n",
    "    # Логування статистики по колонкам розширеної таблиці\n",
    "    logger.info(\"Статистика по розширеній таблиці:\")\n",
    "    logger.info(data.describe())"
   ],
   "metadata": {
    "collapsed": false
   }
  }
 ],
 "metadata": {
  "kernelspec": {
   "display_name": "Python 3",
   "language": "python",
   "name": "python3"
  },
  "language_info": {
   "codemirror_mode": {
    "name": "ipython",
    "version": 2
   },
   "file_extension": ".py",
   "mimetype": "text/x-python",
   "name": "python",
   "nbconvert_exporter": "python",
   "pygments_lexer": "ipython2",
   "version": "2.7.6"
  }
 },
 "nbformat": 4,
 "nbformat_minor": 0
}
